{
 "cells": [
  {
   "cell_type": "markdown",
   "source": [
    "# Example Action Item Finder\n",
    "This example uses the `action-items` skill of OneAI via Steamship.\n",
    "\n",
    "To authenticate with Steamship, install the Steamship CLI with:\n",
    "\n",
    "```bash\n",
    "> npm install -g @steamship/cli\n",
    "```\n",
    "\n",
    "And then login with:\n",
    "\n",
    "```bash\n",
    "> ship login\n",
    "```"
   ],
   "metadata": {
    "collapsed": false
   }
  },
  {
   "cell_type": "code",
   "execution_count": 16,
   "metadata": {
    "collapsed": true
   },
   "outputs": [],
   "source": [
    "from steamship import Steamship, Plugin, PluginInstance, File, Block"
   ]
  },
  {
   "cell_type": "markdown",
   "source": [],
   "metadata": {
    "collapsed": false
   }
  },
  {
   "cell_type": "code",
   "execution_count": 10,
   "outputs": [],
   "source": [
    "PLUGIN_HANDLE = 'oneai-tagger'\n",
    "PLUGIN_SKILL = 'action-items'"
   ],
   "metadata": {
    "collapsed": false,
    "pycharm": {
     "name": "#%%\n"
    }
   }
  },
  {
   "cell_type": "code",
   "execution_count": 14,
   "outputs": [
    {
     "name": "stderr",
     "output_type": "stream",
     "text": [
      "ERROR:root:Client received error from server: [ObjectNotFound]\n",
      "Unable to find object id=? handle=oneai-tagger\n"
     ]
    }
   ],
   "source": [
    "steamship = Steamship() # Without arguments, credentials in ~/.steamship.json will be used.\n",
    "oneai = Plugin.get(client=steamship, handle=PLUGIN_HANDLE) # Managed globally by Steamship"
   ],
   "metadata": {
    "collapsed": false,
    "pycharm": {
     "name": "#%%\n"
    }
   }
  },
  {
   "cell_type": "code",
   "execution_count": 15,
   "outputs": [],
   "source": [
    "text = '''\n",
    "Susan:\n",
    "Ok folks, any other topics before we leave?\n",
    "\n",
    "Bill:\n",
    "We didn't chat about the party yet.\n",
    "\n",
    "Susan:\n",
    "Oh that's right. Is there anything left to do?\n",
    "\n",
    "Bill:\n",
    "I still need to order food. And John said he had to pay the DJ.\n",
    "'''"
   ],
   "metadata": {
    "collapsed": false,
    "pycharm": {
     "name": "#%%\n"
    }
   }
  },
  {
   "cell_type": "code",
   "execution_count": 20,
   "outputs": [],
   "source": [
    "# Upload the text to Steamship\n",
    "file = File.create(\n",
    "    client=steamship,\n",
    "    blocks=[ Block.CreateRequest(text=text) ]\n",
    ").data"
   ],
   "metadata": {
    "collapsed": false,
    "pycharm": {
     "name": "#%%\n"
    }
   }
  },
  {
   "cell_type": "code",
   "execution_count": null,
   "outputs": [],
   "source": [],
   "metadata": {
    "collapsed": false,
    "pycharm": {
     "name": "#%%\n"
    }
   }
  }
 ],
 "metadata": {
  "kernelspec": {
   "display_name": "Python 3",
   "language": "python",
   "name": "python3"
  },
  "language_info": {
   "codemirror_mode": {
    "name": "ipython",
    "version": 2
   },
   "file_extension": ".py",
   "mimetype": "text/x-python",
   "name": "python",
   "nbconvert_exporter": "python",
   "pygments_lexer": "ipython2",
   "version": "2.7.6"
  }
 },
 "nbformat": 4,
 "nbformat_minor": 0
}
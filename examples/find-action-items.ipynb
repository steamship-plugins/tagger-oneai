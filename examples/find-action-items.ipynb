{
 "cells": [
  {
   "cell_type": "markdown",
   "source": [
    "# Example Action Item Finder\n",
    "This example uses the `action-items` skill of OneAI via Steamship.\n",
    "\n",
    "To authenticate with Steamship, install the Steamship CLI with:\n",
    "\n",
    "```bash\n",
    "> npm install -g @steamship/cli\n",
    "```\n",
    "\n",
    "And then login with:\n",
    "\n",
    "```bash\n",
    "> ship login\n",
    "```"
   ],
   "metadata": {
    "collapsed": false
   }
  },
  {
   "cell_type": "code",
   "execution_count": 47,
   "metadata": {
    "collapsed": true
   },
   "outputs": [],
   "source": [
    "from steamship import Steamship, Plugin, PluginInstance, File, Block, Tag"
   ]
  },
  {
   "cell_type": "markdown",
   "source": [],
   "metadata": {
    "collapsed": false
   }
  },
  {
   "cell_type": "code",
   "execution_count": 66,
   "outputs": [],
   "source": [
    "PLUGIN_HANDLE = 'oneai-tagger'\n",
    "PLUGIN_CONFIG = {\n",
    "    \"skills\": 'action-items',\n",
    "    \"input_type\": 'conversation',\n",
    "    \"api_key\": \"89a15149-d705-46d7-83b0-4ec66e6b1b1e\"\n",
    "}"
   ],
   "metadata": {
    "collapsed": false,
    "pycharm": {
     "name": "#%%\n"
    }
   }
  },
  {
   "cell_type": "code",
   "execution_count": 67,
   "outputs": [],
   "source": [
    "steamship = Steamship() # Without arguments, credentials in ~/.steamship.json will be used.\n",
    "oneai = Plugin.get(client=steamship, handle=PLUGIN_HANDLE).data # Managed globally by Steamship"
   ],
   "metadata": {
    "collapsed": false,
    "pycharm": {
     "name": "#%%\n"
    }
   }
  },
  {
   "cell_type": "code",
   "execution_count": 68,
   "outputs": [],
   "source": [
    "text = '''\n",
    "Susan:\n",
    "Ok folks, any other topics before we leave?\n",
    "\n",
    "Bill:\n",
    "We didn't chat about the party yet.\n",
    "\n",
    "Susan:\n",
    "Oh that's right. Is there anything left to do?\n",
    "\n",
    "Bill:\n",
    "I still need to order food. And John said he had to pay the DJ.\n",
    "'''"
   ],
   "metadata": {
    "collapsed": false,
    "pycharm": {
     "name": "#%%\n"
    }
   }
  },
  {
   "cell_type": "code",
   "execution_count": 69,
   "outputs": [],
   "source": [
    "# Upload the text to Steamship\n",
    "file = File.create(\n",
    "    client=steamship,\n",
    "    blocks=[ Block.CreateRequest(text=text, tags=[Tag.CreateRequest(name=\"Hi\")]) ]\n",
    ").data"
   ],
   "metadata": {
    "collapsed": false,
    "pycharm": {
     "name": "#%%\n"
    }
   }
  },
  {
   "cell_type": "code",
   "execution_count": 79,
   "outputs": [
    {
     "name": "stderr",
     "output_type": "stream",
     "text": [
      "ERROR:root:Client received error from server: {\"statusMessage\":\"There was an error processing your function. [Optional(\\\"Unhandled\\\")]\",\"statusCode\":\"ServerError\"}\n"
     ]
    }
   ],
   "source": [
    "# Tag with OneAI\n",
    "oneai_instance = PluginInstance.create(\n",
    "    client=steamship,\n",
    "    plugin_id=oneai.id,\n",
    "    config=PLUGIN_CONFIG\n",
    ").data\n",
    "\n",
    "tag_results = file.tag(plugin_instance=oneai_instance.handle)\n",
    "tag_results.wait()"
   ],
   "metadata": {
    "collapsed": false,
    "pycharm": {
     "name": "#%%\n"
    }
   }
  },
  {
   "cell_type": "code",
   "execution_count": 74,
   "outputs": [],
   "source": [
    "# Find the blocks\n",
    "blocks = Block.query(steamship, tag_filter_query='blocktag').data.blocks"
   ],
   "metadata": {
    "collapsed": false,
    "pycharm": {
     "name": "#%%\n"
    }
   }
  },
  {
   "cell_type": "code",
   "execution_count": 75,
   "outputs": [
    {
     "name": "stdout",
     "output_type": "stream",
     "text": [
      "[None / Hi]\n",
      "\n",
      "Susan:\n",
      "Ok folks, any other topics before we leave?\n",
      "\n",
      "Bill:\n",
      "We didn't chat about the party yet.\n",
      "\n",
      "Susan:\n",
      "Oh that's right. Is there anything left to do?\n",
      "\n",
      "Bill:\n",
      "I still need to order food. And John said he had to pay the DJ.\n",
      "[None / Hi]\n",
      "\n",
      "Susan:\n",
      "Ok folks, any other topics before we leave?\n",
      "\n",
      "Bill:\n",
      "We didn't chat about the party yet.\n",
      "\n",
      "Susan:\n",
      "Oh that's right. Is there anything left to do?\n",
      "\n",
      "Bill:\n",
      "I still need to order food. And John said he had to pay the DJ.\n",
      "[None / Hi]\n",
      "\n",
      "Susan:\n",
      "Ok folks, any other topics before we leave?\n",
      "\n",
      "Bill:\n",
      "We didn't chat about the party yet.\n",
      "\n",
      "Susan:\n",
      "Oh that's right. Is there anything left to do?\n",
      "\n",
      "Bill:\n",
      "I still need to order food. And John said he had to pay the DJ.\n",
      "[None / Hi]\n",
      "\n",
      "Susan:\n",
      "Ok folks, any other topics before we leave?\n",
      "\n",
      "Bill:\n",
      "We didn't chat about the party yet.\n",
      "\n",
      "Susan:\n",
      "Oh that's right. Is there anything left to do?\n",
      "\n",
      "Bill:\n",
      "I still need to order food. And John said he had to pay the DJ.\n",
      "[None / Hi]\n",
      "\n",
      "Susan:\n",
      "Ok folks, any other topics before we leave?\n",
      "\n",
      "Bill:\n",
      "We didn't chat about the party yet.\n",
      "\n",
      "Susan:\n",
      "Oh that's right. Is there anything left to do?\n",
      "\n",
      "Bill:\n",
      "I still need to order food. And John said he had to pay the DJ.\n"
     ]
    }
   ],
   "source": [
    "for block in blocks:\n",
    "    for tag in block.tags:\n",
    "        text = block.text[tag.start_idx or 0:tag.end_idx or -1]\n",
    "        print(f\"[{tag.kind} / {tag.name}]\\n{text}\")"
   ],
   "metadata": {
    "collapsed": false,
    "pycharm": {
     "name": "#%%\n"
    }
   }
  },
  {
   "cell_type": "code",
   "execution_count": 53,
   "outputs": [],
   "source": [],
   "metadata": {
    "collapsed": false,
    "pycharm": {
     "name": "#%%\n"
    }
   }
  },
  {
   "cell_type": "code",
   "execution_count": null,
   "outputs": [],
   "source": [],
   "metadata": {
    "collapsed": false,
    "pycharm": {
     "name": "#%%\n"
    }
   }
  }
 ],
 "metadata": {
  "kernelspec": {
   "display_name": "Python 3",
   "language": "python",
   "name": "python3"
  },
  "language_info": {
   "codemirror_mode": {
    "name": "ipython",
    "version": 2
   },
   "file_extension": ".py",
   "mimetype": "text/x-python",
   "name": "python",
   "nbconvert_exporter": "python",
   "pygments_lexer": "ipython2",
   "version": "2.7.6"
  }
 },
 "nbformat": 4,
 "nbformat_minor": 0
}
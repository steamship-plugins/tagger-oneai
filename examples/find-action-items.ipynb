{
 "cells": [
  {
   "cell_type": "markdown",
   "source": [
    "# Example Action Item Finder\n",
    "This example uses the `action-items` skill of OneAI via Steamship."
   ],
   "metadata": {
    "collapsed": false
   }
  },
  {
   "cell_type": "code",
   "execution_count": null,
   "metadata": {
    "collapsed": true
   },
   "outputs": [],
   "source": [
    "from steamship import Client"
   ]
  },
  {
   "cell_type": "markdown",
   "source": [],
   "metadata": {
    "collapsed": false
   }
  },
  {
   "cell_type": "code",
   "execution_count": null,
   "outputs": [],
   "source": [
    "PLUGIN_HANDLE = 'oneai-tagger'\n",
    "PLUGIN_SKILL = 'action-items'"
   ],
   "metadata": {
    "collapsed": false,
    "pycharm": {
     "name": "#%%\n"
    }
   }
  },
  {
   "cell_type": "code",
   "execution_count": null,
   "outputs": [],
   "source": [
    "oneai = Plugin.create(handle=PLUGIN_HANDLE)"
   ],
   "metadata": {
    "collapsed": false,
    "pycharm": {
     "name": "#%%\n"
    }
   }
  },
  {
   "cell_type": "code",
   "execution_count": null,
   "outputs": [],
   "source": [
    "text = '''\n",
    "Susan:\n",
    "Ok folks, any other topics before we leave?\n",
    "\n",
    "Bill:\n",
    "We didn't chat about the party yet.\n",
    "\n",
    "Susan:\n",
    "Oh that's right. Is there anything left to do?\n",
    "\n",
    "Bill:\n",
    "I still need to order food. And John said he had to pay the DJ.\n",
    "'''"
   ],
   "metadata": {
    "collapsed": false,
    "pycharm": {
     "name": "#%%\n"
    }
   }
  }
 ],
 "metadata": {
  "kernelspec": {
   "display_name": "Python 3",
   "language": "python",
   "name": "python3"
  },
  "language_info": {
   "codemirror_mode": {
    "name": "ipython",
    "version": 2
   },
   "file_extension": ".py",
   "mimetype": "text/x-python",
   "name": "python",
   "nbconvert_exporter": "python",
   "pygments_lexer": "ipython2",
   "version": "2.7.6"
  }
 },
 "nbformat": 4,
 "nbformat_minor": 0
}
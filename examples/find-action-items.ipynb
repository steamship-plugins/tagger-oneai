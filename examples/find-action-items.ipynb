{
 "cells": [
  {
   "cell_type": "markdown",
   "metadata": {},
   "source": [
    "# Example Action Item Finder\n",
    "This example uses the `action-items` skill of OneAI via Steamship.\n",
    "\n",
    "To authenticate with Steamship, install the Steamship CLI with:\n",
    "\n",
    "```bash\n",
    "> npm install -g @steamship/cli\n",
    "```\n",
    "\n",
    "And then login with:\n",
    "\n",
    "```bash\n",
    "> ship login\n",
    "```"
   ]
  },
  {
   "cell_type": "code",
   "execution_count": 57,
   "metadata": {},
   "outputs": [],
   "source": [
    "from steamship import Steamship, Plugin, PluginInstance, File, Block, Tag"
   ]
  },
  {
   "cell_type": "code",
   "execution_count": 58,
   "metadata": {
    "pycharm": {
     "name": "#%%\n"
    }
   },
   "outputs": [],
   "source": [
    "PLUGIN_HANDLE = 'oneai-tagger'\n",
    "PLUGIN_CONFIG = {\n",
    "    \"skills\": 'action-items',\n",
    "    \"input_type\": 'article',\n",
    "    \"api_key\": \"84ae4e01-e565-4791-a30c-181534f3eef4\"\n",
    "}"
   ]
  },
  {
   "cell_type": "code",
   "execution_count": 59,
   "metadata": {
    "pycharm": {
     "name": "#%%\n"
    }
   },
   "outputs": [
    {
     "data": {
      "text/plain": [
       "('2C32CBE0-C0FC-48C8-8574-AFF316243B1E', 'punchy-milk-gw4kh')"
      ]
     },
     "execution_count": 59,
     "metadata": {},
     "output_type": "execute_result"
    }
   ],
   "source": [
    "steamship = Steamship(profile=\"staging\") # Without arguments, credentials in ~/.steamship.json will be used.\n",
    "oneai_plugin = Plugin.get(client=steamship, handle=PLUGIN_HANDLE).data # Managed globally by Steamship\n",
    "oneai_plugin_instance = PluginInstance.create(\n",
    "    client=steamship,\n",
    "    plugin_id=oneai_plugin.id,\n",
    "    config=PLUGIN_CONFIG\n",
    ").data\n",
    "oneai_plugin_instance.id, oneai_plugin_instance.handle "
   ]
  },
  {
   "cell_type": "code",
   "execution_count": 60,
   "metadata": {},
   "outputs": [],
   "source": [
    "conversation = [\n",
    "    {\"speaker\":\"Susan\",\"utterance\":\"Ok folks, any other topics before we leave?\"},\n",
    "    {\"speaker\":\"Bill\",\"utterance\":\"We didn't chat about the party yet.\"},\n",
    "    {\"speaker\":\"Susan\",\"utterance\":\"Oh that's right. Is there anything left to do?\"},\n",
    "    {\"speaker\":\"Bill\",\"utterance\":\"I still need to order food. And John said he had to pay the DJ.\"},\n",
    "]\n",
    "\n",
    "\n",
    "text = '''\n",
    "Susan:\n",
    "Ok folks, any other topics before we leave?\n",
    "\n",
    "Bill:\n",
    "We didn't chat about the party yet.\n",
    "\n",
    "Susan:\n",
    "Oh that's right. Is there anything left to do?\n",
    "\n",
    "Bill:\n",
    "I still need to order food. And John said he had to pay the DJ.\n",
    "'''"
   ]
  },
  {
   "cell_type": "code",
   "execution_count": 61,
   "metadata": {
    "pycharm": {
     "name": "#%%\n"
    }
   },
   "outputs": [],
   "source": [
    "# Upload the text to Steamship\n",
    "file = File.create(\n",
    "    client=steamship,\n",
    "    blocks=[Block.CreateRequest(text=text, tags=[Tag.CreateRequest(name=\"Hi\")]) ]\n",
    ").data"
   ]
  },
  {
   "cell_type": "code",
   "execution_count": 62,
   "metadata": {
    "pycharm": {
     "name": "#%%\n"
    }
   },
   "outputs": [
    {
     "name": "stderr",
     "output_type": "stream",
     "text": [
      "ERROR:root:Client received error from server: {\"statusCode\":\"ServerError\",\"statusMessage\":\"There was an error processing your function. [Optional(\\\"Unhandled\\\")]\"}\n"
     ]
    }
   ],
   "source": [
    "tag_results = file.tag(plugin_instance=oneai_plugin_instance.handle)\n",
    "tag_results.wait()"
   ]
  },
  {
   "cell_type": "code",
   "execution_count": 91,
   "metadata": {
    "pycharm": {
     "name": "#%%\n"
    }
   },
   "outputs": [],
   "source": [
    "# Find the blocks\n",
    "blocks = Block.query(steamship, tag_filter_query='blocktag').data.blocks"
   ]
  },
  {
   "cell_type": "code",
   "execution_count": 92,
   "metadata": {
    "pycharm": {
     "name": "#%%\n"
    }
   },
   "outputs": [
    {
     "name": "stdout",
     "output_type": "stream",
     "text": [
      "[None / Hi]\n",
      "\n",
      "Susan:\n",
      "Ok folks, any other topics before we leave?\n",
      "\n",
      "Bill:\n",
      "We didn't chat about the party yet.\n",
      "\n",
      "Susan:\n",
      "Oh that's right. Is there anything left to do?\n",
      "\n",
      "Bill:\n",
      "I still need to order food. And John said he had to pay the DJ.\n",
      "[None / Hi]\n",
      "\n",
      "Susan:\n",
      "Ok folks, any other topics before we leave?\n",
      "\n",
      "Bill:\n",
      "We didn't chat about the party yet.\n",
      "\n",
      "Susan:\n",
      "Oh that's right. Is there anything left to do?\n",
      "\n",
      "Bill:\n",
      "I still need to order food. And John said he had to pay the DJ.\n",
      "[None / Hi]\n",
      "\n",
      "Susan:\n",
      "Ok folks, any other topics before we leave?\n",
      "\n",
      "Bill:\n",
      "We didn't chat about the party yet.\n",
      "\n",
      "Susan:\n",
      "Oh that's right. Is there anything left to do?\n",
      "\n",
      "Bill:\n",
      "I still need to order food. And John said he had to pay the DJ.\n",
      "[None / Hi]\n",
      "\n",
      "Susan:\n",
      "Ok folks, any other topics before we leave?\n",
      "\n",
      "Bill:\n",
      "We didn't chat about the party yet.\n",
      "\n",
      "Susan:\n",
      "Oh that's right. Is there anything left to do?\n",
      "\n",
      "Bill:\n",
      "I still need to order food. And John said he had to pay the DJ.\n",
      "[None / Hi]\n",
      "\n",
      "Susan:\n",
      "Ok folks, any other topics before we leave?\n",
      "\n",
      "Bill:\n",
      "We didn't chat about the party yet.\n",
      "\n",
      "Susan:\n",
      "Oh that's right. Is there anything left to do?\n",
      "\n",
      "Bill:\n",
      "I still need to order food. And John said he had to pay the DJ.\n",
      "[None / Hi]\n",
      "\n",
      "Susan:\n",
      "Ok folks, any other topics before we leave?\n",
      "\n",
      "Bill:\n",
      "We didn't chat about the party yet.\n",
      "\n",
      "Susan:\n",
      "Oh that's right. Is there anything left to do?\n",
      "\n",
      "Bill:\n",
      "I still need to order food. And John said he had to pay the DJ.\n",
      "[None / Hi]\n",
      "\n",
      "Susan:\n",
      "Ok folks, any other topics before we leave?\n",
      "\n",
      "Bill:\n",
      "We didn't chat about the party yet.\n",
      "\n",
      "Susan:\n",
      "Oh that's right. Is there anything left to do?\n",
      "\n",
      "Bill:\n",
      "I still need to order food. And John said he had to pay the DJ.\n"
     ]
    }
   ],
   "source": [
    "for block in blocks:\n",
    "    for tag in block.tags:\n",
    "        text = block.text[tag.start_idx or 0:tag.end_idx or -1]\n",
    "        print(f\"[{tag.kind} / {tag.name}]\\n{text}\")"
   ]
  },
  {
   "cell_type": "code",
   "execution_count": 92,
   "metadata": {
    "pycharm": {
     "name": "#%%\n"
    }
   },
   "outputs": [],
   "source": []
  },
  {
   "cell_type": "code",
   "execution_count": null,
   "metadata": {
    "pycharm": {
     "name": "#%%\n"
    }
   },
   "outputs": [],
   "source": []
  }
 ],
 "metadata": {
  "kernelspec": {
   "display_name": "Python 3 (ipykernel)",
   "language": "python",
   "name": "python3"
  },
  "language_info": {
   "codemirror_mode": {
    "name": "ipython",
    "version": 3
   },
   "file_extension": ".py",
   "mimetype": "text/x-python",
   "name": "python",
   "nbconvert_exporter": "python",
   "pygments_lexer": "ipython3",
   "version": "3.8.5"
  }
 },
 "nbformat": 4,
 "nbformat_minor": 1
}
